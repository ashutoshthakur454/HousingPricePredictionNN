{
 "cells": [
  {
   "cell_type": "code",
   "execution_count": 1,
   "id": "81555d4e",
   "metadata": {},
   "outputs": [],
   "source": [
    "import pandas as pd\n",
    "import numpy as np\n",
    "import matplotlib.pyplot as plt\n",
    "import seaborn as sns"
   ]
  },
  {
   "cell_type": "code",
   "execution_count": 2,
   "id": "22d04df4",
   "metadata": {},
   "outputs": [
    {
     "data": {
      "text/html": [
       "<div>\n",
       "<style scoped>\n",
       "    .dataframe tbody tr th:only-of-type {\n",
       "        vertical-align: middle;\n",
       "    }\n",
       "\n",
       "    .dataframe tbody tr th {\n",
       "        vertical-align: top;\n",
       "    }\n",
       "\n",
       "    .dataframe thead th {\n",
       "        text-align: right;\n",
       "    }\n",
       "</style>\n",
       "<table border=\"1\" class=\"dataframe\">\n",
       "  <thead>\n",
       "    <tr style=\"text-align: right;\">\n",
       "      <th></th>\n",
       "      <th>CRIM</th>\n",
       "      <th>ZN</th>\n",
       "      <th>INDUS</th>\n",
       "      <th>CHAS</th>\n",
       "      <th>NOX</th>\n",
       "      <th>RM</th>\n",
       "      <th>AGE</th>\n",
       "      <th>DIS</th>\n",
       "      <th>RAD</th>\n",
       "      <th>TAX</th>\n",
       "      <th>PTRATIO</th>\n",
       "      <th>B</th>\n",
       "      <th>LSTAT</th>\n",
       "      <th>MEDV</th>\n",
       "    </tr>\n",
       "  </thead>\n",
       "  <tbody>\n",
       "    <tr>\n",
       "      <th>0</th>\n",
       "      <td>0.00632</td>\n",
       "      <td>18.0</td>\n",
       "      <td>2.31</td>\n",
       "      <td>0.0</td>\n",
       "      <td>0.538</td>\n",
       "      <td>6.575</td>\n",
       "      <td>65.2</td>\n",
       "      <td>4.0900</td>\n",
       "      <td>1.0</td>\n",
       "      <td>296.0</td>\n",
       "      <td>15.3</td>\n",
       "      <td>396.90</td>\n",
       "      <td>4.98</td>\n",
       "      <td>24.0</td>\n",
       "    </tr>\n",
       "    <tr>\n",
       "      <th>1</th>\n",
       "      <td>0.02731</td>\n",
       "      <td>0.0</td>\n",
       "      <td>7.07</td>\n",
       "      <td>0.0</td>\n",
       "      <td>0.469</td>\n",
       "      <td>6.421</td>\n",
       "      <td>78.9</td>\n",
       "      <td>4.9671</td>\n",
       "      <td>2.0</td>\n",
       "      <td>242.0</td>\n",
       "      <td>17.8</td>\n",
       "      <td>396.90</td>\n",
       "      <td>9.14</td>\n",
       "      <td>21.6</td>\n",
       "    </tr>\n",
       "    <tr>\n",
       "      <th>2</th>\n",
       "      <td>0.02729</td>\n",
       "      <td>0.0</td>\n",
       "      <td>7.07</td>\n",
       "      <td>0.0</td>\n",
       "      <td>0.469</td>\n",
       "      <td>7.185</td>\n",
       "      <td>61.1</td>\n",
       "      <td>4.9671</td>\n",
       "      <td>2.0</td>\n",
       "      <td>242.0</td>\n",
       "      <td>17.8</td>\n",
       "      <td>392.83</td>\n",
       "      <td>4.03</td>\n",
       "      <td>34.7</td>\n",
       "    </tr>\n",
       "    <tr>\n",
       "      <th>3</th>\n",
       "      <td>0.03237</td>\n",
       "      <td>0.0</td>\n",
       "      <td>2.18</td>\n",
       "      <td>0.0</td>\n",
       "      <td>0.458</td>\n",
       "      <td>6.998</td>\n",
       "      <td>45.8</td>\n",
       "      <td>6.0622</td>\n",
       "      <td>3.0</td>\n",
       "      <td>222.0</td>\n",
       "      <td>18.7</td>\n",
       "      <td>394.63</td>\n",
       "      <td>2.94</td>\n",
       "      <td>33.4</td>\n",
       "    </tr>\n",
       "    <tr>\n",
       "      <th>4</th>\n",
       "      <td>0.06905</td>\n",
       "      <td>0.0</td>\n",
       "      <td>2.18</td>\n",
       "      <td>0.0</td>\n",
       "      <td>0.458</td>\n",
       "      <td>7.147</td>\n",
       "      <td>54.2</td>\n",
       "      <td>6.0622</td>\n",
       "      <td>3.0</td>\n",
       "      <td>222.0</td>\n",
       "      <td>18.7</td>\n",
       "      <td>396.90</td>\n",
       "      <td>5.33</td>\n",
       "      <td>36.2</td>\n",
       "    </tr>\n",
       "  </tbody>\n",
       "</table>\n",
       "</div>"
      ],
      "text/plain": [
       "      CRIM    ZN  INDUS  CHAS    NOX     RM   AGE     DIS  RAD    TAX  \\\n",
       "0  0.00632  18.0   2.31   0.0  0.538  6.575  65.2  4.0900  1.0  296.0   \n",
       "1  0.02731   0.0   7.07   0.0  0.469  6.421  78.9  4.9671  2.0  242.0   \n",
       "2  0.02729   0.0   7.07   0.0  0.469  7.185  61.1  4.9671  2.0  242.0   \n",
       "3  0.03237   0.0   2.18   0.0  0.458  6.998  45.8  6.0622  3.0  222.0   \n",
       "4  0.06905   0.0   2.18   0.0  0.458  7.147  54.2  6.0622  3.0  222.0   \n",
       "\n",
       "   PTRATIO       B  LSTAT  MEDV  \n",
       "0     15.3  396.90   4.98  24.0  \n",
       "1     17.8  396.90   9.14  21.6  \n",
       "2     17.8  392.83   4.03  34.7  \n",
       "3     18.7  394.63   2.94  33.4  \n",
       "4     18.7  396.90   5.33  36.2  "
      ]
     },
     "execution_count": 2,
     "metadata": {},
     "output_type": "execute_result"
    }
   ],
   "source": [
    "df=pd.read_csv('Files/boston_price_pred.csv')\n",
    "df=df.drop('Unnamed: 0',axis=1)\n",
    "df.head()"
   ]
  },
  {
   "cell_type": "raw",
   "id": "dc67a3eb",
   "metadata": {},
   "source": [
    "Info regarding column names:\n",
    "\n",
    "CRIM     per capita crime rate by town\n",
    "ZN       proportion of residential land zoned for lots over 25,000 sq.ft.\n",
    "INDUS    proportion of non-retail business acres per town\n",
    "CHAS     Charles River dummy variable (= 1 if tract bounds river; 0 otherwise)\n",
    "NOX      nitric oxides concentration (parts per 10 million)\n",
    "RM       average number of rooms per dwelling\n",
    "AGE      proportion of owner-occupied units built prior to 1940\n",
    "DIS      weighted distances to five Boston employment centres\n",
    "RAD      index of accessibility to radial highways\n",
    "TAX      full-value property-tax rate per $10,000\n",
    "PTRATIO  pupil-teacher ratio by town\n",
    "B        1000(Bk - 0.63)^2 where Bk is the proportion of blacks by town\n",
    "LSTAT    % lower status of the population\n",
    "MEDV     Median value of owner-occupied homes in $1000's"
   ]
  },
  {
   "cell_type": "code",
   "execution_count": 3,
   "id": "85d06688",
   "metadata": {},
   "outputs": [
    {
     "name": "stdout",
     "output_type": "stream",
     "text": [
      "<class 'pandas.core.frame.DataFrame'>\n",
      "RangeIndex: 506 entries, 0 to 505\n",
      "Data columns (total 14 columns):\n",
      " #   Column   Non-Null Count  Dtype  \n",
      "---  ------   --------------  -----  \n",
      " 0   CRIM     506 non-null    float64\n",
      " 1   ZN       506 non-null    float64\n",
      " 2   INDUS    506 non-null    float64\n",
      " 3   CHAS     506 non-null    float64\n",
      " 4   NOX      506 non-null    float64\n",
      " 5   RM       506 non-null    float64\n",
      " 6   AGE      506 non-null    float64\n",
      " 7   DIS      506 non-null    float64\n",
      " 8   RAD      506 non-null    float64\n",
      " 9   TAX      506 non-null    float64\n",
      " 10  PTRATIO  506 non-null    float64\n",
      " 11  B        506 non-null    float64\n",
      " 12  LSTAT    506 non-null    float64\n",
      " 13  MEDV     506 non-null    float64\n",
      "dtypes: float64(14)\n",
      "memory usage: 55.5 KB\n"
     ]
    }
   ],
   "source": [
    "df.info()"
   ]
  },
  {
   "cell_type": "code",
   "execution_count": 4,
   "id": "c6ca6761",
   "metadata": {},
   "outputs": [
    {
     "data": {
      "text/html": [
       "<div>\n",
       "<style scoped>\n",
       "    .dataframe tbody tr th:only-of-type {\n",
       "        vertical-align: middle;\n",
       "    }\n",
       "\n",
       "    .dataframe tbody tr th {\n",
       "        vertical-align: top;\n",
       "    }\n",
       "\n",
       "    .dataframe thead th {\n",
       "        text-align: right;\n",
       "    }\n",
       "</style>\n",
       "<table border=\"1\" class=\"dataframe\">\n",
       "  <thead>\n",
       "    <tr style=\"text-align: right;\">\n",
       "      <th></th>\n",
       "      <th>CRIM</th>\n",
       "      <th>ZN</th>\n",
       "      <th>INDUS</th>\n",
       "      <th>CHAS</th>\n",
       "      <th>NOX</th>\n",
       "      <th>RM</th>\n",
       "      <th>AGE</th>\n",
       "      <th>DIS</th>\n",
       "      <th>RAD</th>\n",
       "      <th>TAX</th>\n",
       "      <th>PTRATIO</th>\n",
       "      <th>B</th>\n",
       "      <th>LSTAT</th>\n",
       "      <th>MEDV</th>\n",
       "    </tr>\n",
       "  </thead>\n",
       "  <tbody>\n",
       "    <tr>\n",
       "      <th>count</th>\n",
       "      <td>506.000000</td>\n",
       "      <td>506.000000</td>\n",
       "      <td>506.000000</td>\n",
       "      <td>506.000000</td>\n",
       "      <td>506.000000</td>\n",
       "      <td>506.000000</td>\n",
       "      <td>506.000000</td>\n",
       "      <td>506.000000</td>\n",
       "      <td>506.000000</td>\n",
       "      <td>506.000000</td>\n",
       "      <td>506.000000</td>\n",
       "      <td>506.000000</td>\n",
       "      <td>506.000000</td>\n",
       "      <td>506.000000</td>\n",
       "    </tr>\n",
       "    <tr>\n",
       "      <th>mean</th>\n",
       "      <td>3.613524</td>\n",
       "      <td>11.363636</td>\n",
       "      <td>11.136779</td>\n",
       "      <td>0.069170</td>\n",
       "      <td>0.554695</td>\n",
       "      <td>6.284634</td>\n",
       "      <td>68.574901</td>\n",
       "      <td>3.795043</td>\n",
       "      <td>9.549407</td>\n",
       "      <td>408.237154</td>\n",
       "      <td>18.455534</td>\n",
       "      <td>356.674032</td>\n",
       "      <td>12.653063</td>\n",
       "      <td>22.532806</td>\n",
       "    </tr>\n",
       "    <tr>\n",
       "      <th>std</th>\n",
       "      <td>8.601545</td>\n",
       "      <td>23.322453</td>\n",
       "      <td>6.860353</td>\n",
       "      <td>0.253994</td>\n",
       "      <td>0.115878</td>\n",
       "      <td>0.702617</td>\n",
       "      <td>28.148861</td>\n",
       "      <td>2.105710</td>\n",
       "      <td>8.707259</td>\n",
       "      <td>168.537116</td>\n",
       "      <td>2.164946</td>\n",
       "      <td>91.294864</td>\n",
       "      <td>7.141062</td>\n",
       "      <td>9.197104</td>\n",
       "    </tr>\n",
       "    <tr>\n",
       "      <th>min</th>\n",
       "      <td>0.006320</td>\n",
       "      <td>0.000000</td>\n",
       "      <td>0.460000</td>\n",
       "      <td>0.000000</td>\n",
       "      <td>0.385000</td>\n",
       "      <td>3.561000</td>\n",
       "      <td>2.900000</td>\n",
       "      <td>1.129600</td>\n",
       "      <td>1.000000</td>\n",
       "      <td>187.000000</td>\n",
       "      <td>12.600000</td>\n",
       "      <td>0.320000</td>\n",
       "      <td>1.730000</td>\n",
       "      <td>5.000000</td>\n",
       "    </tr>\n",
       "    <tr>\n",
       "      <th>25%</th>\n",
       "      <td>0.082045</td>\n",
       "      <td>0.000000</td>\n",
       "      <td>5.190000</td>\n",
       "      <td>0.000000</td>\n",
       "      <td>0.449000</td>\n",
       "      <td>5.885500</td>\n",
       "      <td>45.025000</td>\n",
       "      <td>2.100175</td>\n",
       "      <td>4.000000</td>\n",
       "      <td>279.000000</td>\n",
       "      <td>17.400000</td>\n",
       "      <td>375.377500</td>\n",
       "      <td>6.950000</td>\n",
       "      <td>17.025000</td>\n",
       "    </tr>\n",
       "    <tr>\n",
       "      <th>50%</th>\n",
       "      <td>0.256510</td>\n",
       "      <td>0.000000</td>\n",
       "      <td>9.690000</td>\n",
       "      <td>0.000000</td>\n",
       "      <td>0.538000</td>\n",
       "      <td>6.208500</td>\n",
       "      <td>77.500000</td>\n",
       "      <td>3.207450</td>\n",
       "      <td>5.000000</td>\n",
       "      <td>330.000000</td>\n",
       "      <td>19.050000</td>\n",
       "      <td>391.440000</td>\n",
       "      <td>11.360000</td>\n",
       "      <td>21.200000</td>\n",
       "    </tr>\n",
       "    <tr>\n",
       "      <th>75%</th>\n",
       "      <td>3.677083</td>\n",
       "      <td>12.500000</td>\n",
       "      <td>18.100000</td>\n",
       "      <td>0.000000</td>\n",
       "      <td>0.624000</td>\n",
       "      <td>6.623500</td>\n",
       "      <td>94.075000</td>\n",
       "      <td>5.188425</td>\n",
       "      <td>24.000000</td>\n",
       "      <td>666.000000</td>\n",
       "      <td>20.200000</td>\n",
       "      <td>396.225000</td>\n",
       "      <td>16.955000</td>\n",
       "      <td>25.000000</td>\n",
       "    </tr>\n",
       "    <tr>\n",
       "      <th>max</th>\n",
       "      <td>88.976200</td>\n",
       "      <td>100.000000</td>\n",
       "      <td>27.740000</td>\n",
       "      <td>1.000000</td>\n",
       "      <td>0.871000</td>\n",
       "      <td>8.780000</td>\n",
       "      <td>100.000000</td>\n",
       "      <td>12.126500</td>\n",
       "      <td>24.000000</td>\n",
       "      <td>711.000000</td>\n",
       "      <td>22.000000</td>\n",
       "      <td>396.900000</td>\n",
       "      <td>37.970000</td>\n",
       "      <td>50.000000</td>\n",
       "    </tr>\n",
       "  </tbody>\n",
       "</table>\n",
       "</div>"
      ],
      "text/plain": [
       "             CRIM          ZN       INDUS        CHAS         NOX          RM  \\\n",
       "count  506.000000  506.000000  506.000000  506.000000  506.000000  506.000000   \n",
       "mean     3.613524   11.363636   11.136779    0.069170    0.554695    6.284634   \n",
       "std      8.601545   23.322453    6.860353    0.253994    0.115878    0.702617   \n",
       "min      0.006320    0.000000    0.460000    0.000000    0.385000    3.561000   \n",
       "25%      0.082045    0.000000    5.190000    0.000000    0.449000    5.885500   \n",
       "50%      0.256510    0.000000    9.690000    0.000000    0.538000    6.208500   \n",
       "75%      3.677083   12.500000   18.100000    0.000000    0.624000    6.623500   \n",
       "max     88.976200  100.000000   27.740000    1.000000    0.871000    8.780000   \n",
       "\n",
       "              AGE         DIS         RAD         TAX     PTRATIO           B  \\\n",
       "count  506.000000  506.000000  506.000000  506.000000  506.000000  506.000000   \n",
       "mean    68.574901    3.795043    9.549407  408.237154   18.455534  356.674032   \n",
       "std     28.148861    2.105710    8.707259  168.537116    2.164946   91.294864   \n",
       "min      2.900000    1.129600    1.000000  187.000000   12.600000    0.320000   \n",
       "25%     45.025000    2.100175    4.000000  279.000000   17.400000  375.377500   \n",
       "50%     77.500000    3.207450    5.000000  330.000000   19.050000  391.440000   \n",
       "75%     94.075000    5.188425   24.000000  666.000000   20.200000  396.225000   \n",
       "max    100.000000   12.126500   24.000000  711.000000   22.000000  396.900000   \n",
       "\n",
       "            LSTAT        MEDV  \n",
       "count  506.000000  506.000000  \n",
       "mean    12.653063   22.532806  \n",
       "std      7.141062    9.197104  \n",
       "min      1.730000    5.000000  \n",
       "25%      6.950000   17.025000  \n",
       "50%     11.360000   21.200000  \n",
       "75%     16.955000   25.000000  \n",
       "max     37.970000   50.000000  "
      ]
     },
     "execution_count": 4,
     "metadata": {},
     "output_type": "execute_result"
    }
   ],
   "source": [
    "df.describe()"
   ]
  },
  {
   "cell_type": "code",
   "execution_count": 5,
   "id": "e71c6bdd",
   "metadata": {},
   "outputs": [
    {
     "data": {
      "text/plain": [
       "CRIM       0\n",
       "ZN         0\n",
       "INDUS      0\n",
       "CHAS       0\n",
       "NOX        0\n",
       "RM         0\n",
       "AGE        0\n",
       "DIS        0\n",
       "RAD        0\n",
       "TAX        0\n",
       "PTRATIO    0\n",
       "B          0\n",
       "LSTAT      0\n",
       "MEDV       0\n",
       "dtype: int64"
      ]
     },
     "execution_count": 5,
     "metadata": {},
     "output_type": "execute_result"
    }
   ],
   "source": [
    "df.isnull().sum()"
   ]
  },
  {
   "cell_type": "code",
   "execution_count": 6,
   "id": "ab0f102d",
   "metadata": {},
   "outputs": [
    {
     "data": {
      "text/plain": [
       "0.0    471\n",
       "1.0     35\n",
       "Name: CHAS, dtype: int64"
      ]
     },
     "execution_count": 6,
     "metadata": {},
     "output_type": "execute_result"
    }
   ],
   "source": [
    "df['CHAS'].value_counts()"
   ]
  },
  {
   "cell_type": "code",
   "execution_count": 7,
   "id": "cc20818f",
   "metadata": {},
   "outputs": [],
   "source": [
    "from sklearn.model_selection import train_test_split\n",
    "X_train,X_test,Y_train,Y_test=train_test_split(df.drop('MEDV',axis=1),df['MEDV'],stratify=df['CHAS'],test_size=0.2,random_state=2)\n",
    "train_df=pd.concat([X_train,Y_train],axis=1)\n",
    "test_df=pd.concat([X_test,Y_test],axis=1)"
   ]
  },
  {
   "cell_type": "code",
   "execution_count": 8,
   "id": "606ee821",
   "metadata": {},
   "outputs": [
    {
     "name": "stdout",
     "output_type": "stream",
     "text": [
      "(404, 14) (102, 14)\n"
     ]
    }
   ],
   "source": [
    "print(train_df.shape,test_df.shape)"
   ]
  },
  {
   "cell_type": "code",
   "execution_count": 9,
   "id": "d165a550",
   "metadata": {},
   "outputs": [
    {
     "name": "stdout",
     "output_type": "stream",
     "text": [
      "0.0    376\n",
      "1.0     28\n",
      "Name: CHAS, dtype: int64\n",
      "0.0    95\n",
      "1.0     7\n",
      "Name: CHAS, dtype: int64\n"
     ]
    }
   ],
   "source": [
    "print(train_df['CHAS'].value_counts())\n",
    "print(test_df['CHAS'].value_counts())"
   ]
  },
  {
   "cell_type": "code",
   "execution_count": 10,
   "id": "093a0f97",
   "metadata": {},
   "outputs": [
    {
     "data": {
      "text/plain": [
       "LSTAT     -0.737593\n",
       "INDUS     -0.504470\n",
       "TAX       -0.492588\n",
       "PTRATIO   -0.477634\n",
       "NOX       -0.445997\n",
       "RAD       -0.412149\n",
       "CRIM      -0.394468\n",
       "AGE       -0.384235\n",
       "CHAS       0.123049\n",
       "DIS        0.276704\n",
       "B          0.351307\n",
       "ZN         0.365807\n",
       "RM         0.663773\n",
       "MEDV       1.000000\n",
       "Name: MEDV, dtype: float64"
      ]
     },
     "execution_count": 10,
     "metadata": {},
     "output_type": "execute_result"
    }
   ],
   "source": [
    "train_df.corr()['MEDV'].sort_values()"
   ]
  },
  {
   "cell_type": "code",
   "execution_count": 11,
   "id": "0894292f",
   "metadata": {},
   "outputs": [
    {
     "data": {
      "text/plain": [
       "Text(0, 0.5, 'Price')"
      ]
     },
     "execution_count": 11,
     "metadata": {},
     "output_type": "execute_result"
    },
    {
     "data": {
      "image/png": "[encoded data removed]",
      "text/plain": [
       "<Figure size 432x288 with 1 Axes>"
      ]
     },
     "metadata": {
      "needs_background": "light"
     },
     "output_type": "display_data"
    }
   ],
   "source": [
    "plt.scatter(train_df['LSTAT'],train_df['MEDV'])\n",
    "plt.title(\"Price versus lower status of the population\")\n",
    "plt.xlabel(\"% lower status of the population\")\n",
    "plt.ylabel(\"Price\")"
   ]
  },
  {
   "cell_type": "code",
   "execution_count": 12,
   "id": "0123e728",
   "metadata": {},
   "outputs": [
    {
     "data": {
      "text/plain": [
       "Text(0, 0.5, 'Price')"
      ]
     },
     "execution_count": 12,
     "metadata": {},
     "output_type": "execute_result"
    },
    {
     "data": {
      "image/png": "[encoded data removed]",
      "text/plain": [
       "<Figure size 432x288 with 1 Axes>"
      ]
     },
     "metadata": {
      "needs_background": "light"
     },
     "output_type": "display_data"
    }
   ],
   "source": [
    "plt.scatter(train_df['CRIM'],train_df['MEDV'])\n",
    "plt.title(\"Price versus crime rate\")\n",
    "plt.xlabel(\"per capita crime rate by town\")\n",
    "plt.ylabel(\"Price\")"
   ]
  },
  {
   "cell_type": "code",
   "execution_count": 13,
   "id": "e1e940db",
   "metadata": {},
   "outputs": [
    {
     "data": {
      "text/plain": [
       "Text(0, 0.5, 'Price')"
      ]
     },
     "execution_count": 13,
     "metadata": {},
     "output_type": "execute_result"
    },
    {
     "data": {
      "image/png": "[encoded data removed]",
      "text/plain": [
       "<Figure size 432x288 with 1 Axes>"
      ]
     },
     "metadata": {
      "needs_background": "light"
     },
     "output_type": "display_data"
    }
   ],
   "source": [
    "plt.scatter(train_df['PTRATIO'],train_df['MEDV'])\n",
    "plt.title(\"Price versus Pupil teacher ratio\")\n",
    "plt.xlabel(\"pupil-teacher ratio by town\")\n",
    "plt.ylabel(\"Price\")"
   ]
  },
  {
   "cell_type": "code",
   "execution_count": 14,
   "id": "8c4fbc23",
   "metadata": {},
   "outputs": [
    {
     "data": {
      "text/plain": [
       "Text(0, 0.5, 'Price')"
      ]
     },
     "execution_count": 14,
     "metadata": {},
     "output_type": "execute_result"
    },
    {
     "data": {
      "image/png": "[encoded data removed]",
      "text/plain": [
       "<Figure size 432x288 with 1 Axes>"
      ]
     },
     "metadata": {
      "needs_background": "light"
     },
     "output_type": "display_data"
    }
   ],
   "source": [
    "plt.scatter(train_df['RM'],train_df['MEDV'])\n",
    "plt.title(\"Price versus Number of rooms\")\n",
    "plt.xlabel(\"average number of rooms per dwelling\")\n",
    "plt.ylabel(\"Price\")"
   ]
  },
  {
   "cell_type": "code",
   "execution_count": 15,
   "id": "66ae3b76",
   "metadata": {},
   "outputs": [
    {
     "data": {
      "text/plain": [
       "array([[<AxesSubplot:title={'center':'CRIM'}>,\n",
       "        <AxesSubplot:title={'center':'ZN'}>,\n",
       "        <AxesSubplot:title={'center':'INDUS'}>,\n",
       "        <AxesSubplot:title={'center':'CHAS'}>],\n",
       "       [<AxesSubplot:title={'center':'NOX'}>,\n",
       "        <AxesSubplot:title={'center':'RM'}>,\n",
       "        <AxesSubplot:title={'center':'AGE'}>,\n",
       "        <AxesSubplot:title={'center':'DIS'}>],\n",
       "       [<AxesSubplot:title={'center':'RAD'}>,\n",
       "        <AxesSubplot:title={'center':'TAX'}>,\n",
       "        <AxesSubplot:title={'center':'PTRATIO'}>,\n",
       "        <AxesSubplot:title={'center':'B'}>],\n",
       "       [<AxesSubplot:title={'center':'LSTAT'}>,\n",
       "        <AxesSubplot:title={'center':'MEDV'}>, <AxesSubplot:>,\n",
       "        <AxesSubplot:>]], dtype=object)"
      ]
     },
     "execution_count": 15,
     "metadata": {},
     "output_type": "execute_result"
    },
    {
     "data": {
      "image/png": "[encoded data removed]",
      "text/plain": [
       "<Figure size 1440x1080 with 16 Axes>"
      ]
     },
     "metadata": {
      "needs_background": "light"
     },
     "output_type": "display_data"
    }
   ],
   "source": [
    "train_df.hist(bins=50,figsize=(20,15))"
   ]
  },
  {
   "cell_type": "code",
   "execution_count": 16,
   "id": "5318e421",
   "metadata": {},
   "outputs": [],
   "source": [
    "from sklearn.preprocessing import StandardScaler\n",
    "scaler=StandardScaler()\n",
    "X_train=scaler.fit_transform(X_train)\n",
    "X_test=scaler.transform(X_test)"
   ]
  },
  {
   "cell_type": "code",
   "execution_count": 17,
   "id": "e65e7112",
   "metadata": {},
   "outputs": [],
   "source": [
    "import tensorflow as tf \n",
    "from tensorflow import keras"
   ]
  },
  {
   "cell_type": "code",
   "execution_count": 18,
   "id": "a39d7646",
   "metadata": {},
   "outputs": [
    {
     "name": "stdout",
     "output_type": "stream",
     "text": [
      "Model: \"sequential\"\n",
      "_________________________________________________________________\n",
      " Layer (type)                Output Shape              Param #   \n",
      "=================================================================\n",
      " dense (Dense)               (None, 128)               1792      \n",
      "                                                                 \n",
      " dense_1 (Dense)             (None, 64)                8256      \n",
      "                                                                 \n",
      " dense_2 (Dense)             (None, 1)                 65        \n",
      "                                                                 \n",
      "=================================================================\n",
      "Total params: 10,113\n",
      "Trainable params: 10,113\n",
      "Non-trainable params: 0\n",
      "_________________________________________________________________\n"
     ]
    }
   ],
   "source": [
    "model=keras.Sequential()\n",
    "model.add(keras.layers.Dense(128,input_dim=13,activation='relu'))\n",
    "model.add(keras.layers.Dense(64,activation='relu'))\n",
    "model.add(keras.layers.Dense(1,activation='linear'))\n",
    "\n",
    "model.compile(loss='mean_squared_error',optimizer='adam',metrics=['mae'])\n",
    "model.summary()"
   ]
  },
  {
   "cell_type": "code",
   "execution_count": 19,
   "id": "8cb32214",
   "metadata": {},
   "outputs": [
    {
     "name": "stdout",
     "output_type": "stream",
     "text": [
      "Epoch 1/100\n",
      "11/11 [==============================] - 3s 59ms/step - loss: 577.4279 - mae: 22.1577 - val_loss: 464.4795 - val_mae: 20.2742\n",
      "Epoch 2/100\n",
      "11/11 [==============================] - 0s 15ms/step - loss: 513.7119 - mae: 20.7369 - val_loss: 408.7156 - val_mae: 18.8733\n",
      "Epoch 3/100\n",
      "11/11 [==============================] - 0s 14ms/step - loss: 443.6324 - mae: 19.0953 - val_loss: 340.1019 - val_mae: 17.0279\n",
      "Epoch 4/100\n",
      "11/11 [==============================] - 0s 12ms/step - loss: 356.1785 - mae: 16.8458 - val_loss: 256.0035 - val_mae: 14.5047\n",
      "Epoch 5/100\n",
      "11/11 [==============================] - 0s 13ms/step - loss: 252.8955 - mae: 13.7656 - val_loss: 170.4398 - val_mae: 11.2956\n",
      "Epoch 6/100\n",
      "11/11 [==============================] - 0s 14ms/step - loss: 158.9354 - mae: 10.3058 - val_loss: 105.4856 - val_mae: 8.3406\n",
      "Epoch 7/100\n",
      "11/11 [==============================] - 0s 15ms/step - loss: 98.0866 - mae: 7.7725 - val_loss: 74.6025 - val_mae: 6.6483\n",
      "Epoch 8/100\n",
      "11/11 [==============================] - 0s 16ms/step - loss: 71.9991 - mae: 6.5482 - val_loss: 57.1471 - val_mae: 5.7583\n",
      "Epoch 9/100\n",
      "11/11 [==============================] - 0s 14ms/step - loss: 55.7974 - mae: 5.6696 - val_loss: 41.3645 - val_mae: 4.9607\n",
      "Epoch 10/100\n",
      "11/11 [==============================] - 0s 13ms/step - loss: 42.9520 - mae: 4.8914 - val_loss: 31.8989 - val_mae: 4.4187\n",
      "Epoch 11/100\n",
      "11/11 [==============================] - 0s 13ms/step - loss: 35.4148 - mae: 4.3653 - val_loss: 26.4996 - val_mae: 4.0780\n",
      "Epoch 12/100\n",
      "11/11 [==============================] - 0s 15ms/step - loss: 30.6918 - mae: 3.9722 - val_loss: 23.2914 - val_mae: 3.8825\n",
      "Epoch 13/100\n",
      "11/11 [==============================] - 0s 14ms/step - loss: 27.5738 - mae: 3.7646 - val_loss: 20.3994 - val_mae: 3.6464\n",
      "Epoch 14/100\n",
      "11/11 [==============================] - 0s 13ms/step - loss: 25.8554 - mae: 3.7339 - val_loss: 19.3132 - val_mae: 3.5259\n",
      "Epoch 15/100\n",
      "11/11 [==============================] - 0s 14ms/step - loss: 24.4547 - mae: 3.6463 - val_loss: 17.4023 - val_mae: 3.3354\n",
      "Epoch 16/100\n",
      "11/11 [==============================] - 0s 14ms/step - loss: 22.9546 - mae: 3.4524 - val_loss: 16.2059 - val_mae: 3.1980\n",
      "Epoch 17/100\n",
      "11/11 [==============================] - 0s 14ms/step - loss: 21.9980 - mae: 3.3359 - val_loss: 15.4822 - val_mae: 3.1321\n",
      "Epoch 18/100\n",
      "11/11 [==============================] - 0s 15ms/step - loss: 21.2697 - mae: 3.2552 - val_loss: 14.6132 - val_mae: 3.0412\n",
      "Epoch 19/100\n",
      "11/11 [==============================] - 0s 14ms/step - loss: 20.4956 - mae: 3.1884 - val_loss: 14.0475 - val_mae: 2.9908\n",
      "Epoch 20/100\n",
      "11/11 [==============================] - 0s 12ms/step - loss: 19.9613 - mae: 3.1524 - val_loss: 13.6977 - val_mae: 2.9650\n",
      "Epoch 21/100\n",
      "11/11 [==============================] - 0s 14ms/step - loss: 19.4322 - mae: 3.0815 - val_loss: 12.8622 - val_mae: 2.8611\n",
      "Epoch 22/100\n",
      "11/11 [==============================] - 0s 15ms/step - loss: 18.9346 - mae: 3.0192 - val_loss: 12.5172 - val_mae: 2.8198\n",
      "Epoch 23/100\n",
      "11/11 [==============================] - 0s 14ms/step - loss: 18.4508 - mae: 3.0315 - val_loss: 12.3256 - val_mae: 2.8011\n",
      "Epoch 24/100\n",
      "11/11 [==============================] - 0s 16ms/step - loss: 17.9292 - mae: 2.9804 - val_loss: 11.6582 - val_mae: 2.7123\n",
      "Epoch 25/100\n",
      "11/11 [==============================] - 0s 16ms/step - loss: 17.7711 - mae: 3.0372 - val_loss: 11.4832 - val_mae: 2.6434\n",
      "Epoch 26/100\n",
      "11/11 [==============================] - 0s 14ms/step - loss: 17.4023 - mae: 3.0267 - val_loss: 11.2924 - val_mae: 2.6296\n",
      "Epoch 27/100\n",
      "11/11 [==============================] - 0s 14ms/step - loss: 16.6122 - mae: 2.8780 - val_loss: 10.6869 - val_mae: 2.5516\n",
      "Epoch 28/100\n",
      "11/11 [==============================] - 0s 13ms/step - loss: 16.4387 - mae: 2.8179 - val_loss: 10.4794 - val_mae: 2.5290\n",
      "Epoch 29/100\n",
      "11/11 [==============================] - 0s 14ms/step - loss: 16.2424 - mae: 2.8336 - val_loss: 10.8857 - val_mae: 2.5829\n",
      "Epoch 30/100\n",
      "11/11 [==============================] - 0s 13ms/step - loss: 15.8036 - mae: 2.8158 - val_loss: 10.0742 - val_mae: 2.4901\n",
      "Epoch 31/100\n",
      "11/11 [==============================] - 0s 13ms/step - loss: 15.7558 - mae: 2.8024 - val_loss: 10.6131 - val_mae: 2.5568\n",
      "Epoch 32/100\n",
      "11/11 [==============================] - 0s 15ms/step - loss: 15.2768 - mae: 2.7447 - val_loss: 9.9752 - val_mae: 2.5098\n",
      "Epoch 33/100\n",
      "11/11 [==============================] - 0s 13ms/step - loss: 15.0356 - mae: 2.7194 - val_loss: 10.0028 - val_mae: 2.5073\n",
      "Epoch 34/100\n",
      "11/11 [==============================] - 0s 14ms/step - loss: 14.9191 - mae: 2.7246 - val_loss: 10.1795 - val_mae: 2.5184\n",
      "Epoch 35/100\n",
      "11/11 [==============================] - 0s 14ms/step - loss: 14.7313 - mae: 2.7361 - val_loss: 9.9753 - val_mae: 2.5275\n",
      "Epoch 36/100\n",
      "11/11 [==============================] - 0s 13ms/step - loss: 14.6450 - mae: 2.7579 - val_loss: 9.4717 - val_mae: 2.4434\n",
      "Epoch 37/100\n",
      "11/11 [==============================] - 0s 16ms/step - loss: 14.2212 - mae: 2.6410 - val_loss: 9.2102 - val_mae: 2.3722\n",
      "Epoch 38/100\n",
      "11/11 [==============================] - 0s 15ms/step - loss: 14.2885 - mae: 2.6021 - val_loss: 8.6967 - val_mae: 2.3183\n",
      "Epoch 39/100\n",
      "11/11 [==============================] - 0s 13ms/step - loss: 13.8995 - mae: 2.6101 - val_loss: 8.8379 - val_mae: 2.3795\n",
      "Epoch 40/100\n",
      "11/11 [==============================] - 0s 15ms/step - loss: 13.5950 - mae: 2.6133 - val_loss: 8.9723 - val_mae: 2.3700\n",
      "Epoch 41/100\n",
      "11/11 [==============================] - 0s 14ms/step - loss: 13.3815 - mae: 2.5679 - val_loss: 8.6191 - val_mae: 2.3084\n",
      "Epoch 42/100\n",
      "11/11 [==============================] - 0s 14ms/step - loss: 13.3841 - mae: 2.5417 - val_loss: 8.4115 - val_mae: 2.2802\n",
      "Epoch 43/100\n",
      "11/11 [==============================] - 0s 14ms/step - loss: 13.3910 - mae: 2.6405 - val_loss: 9.2098 - val_mae: 2.4061\n",
      "Epoch 44/100\n",
      "11/11 [==============================] - 0s 13ms/step - loss: 13.2279 - mae: 2.6711 - val_loss: 9.0928 - val_mae: 2.3649\n",
      "Epoch 45/100\n",
      "11/11 [==============================] - 0s 16ms/step - loss: 12.7704 - mae: 2.5856 - val_loss: 8.4781 - val_mae: 2.2618\n",
      "Epoch 46/100\n",
      "11/11 [==============================] - 0s 15ms/step - loss: 12.7627 - mae: 2.5364 - val_loss: 8.1771 - val_mae: 2.2282\n",
      "Epoch 47/100\n",
      "11/11 [==============================] - 0s 14ms/step - loss: 12.5079 - mae: 2.5093 - val_loss: 9.0866 - val_mae: 2.3621\n",
      "Epoch 48/100\n",
      "11/11 [==============================] - 0s 14ms/step - loss: 12.4543 - mae: 2.5382 - val_loss: 8.2436 - val_mae: 2.2224\n",
      "Epoch 49/100\n",
      "11/11 [==============================] - 0s 13ms/step - loss: 12.2795 - mae: 2.4971 - val_loss: 8.1201 - val_mae: 2.2049\n",
      "Epoch 50/100\n",
      "11/11 [==============================] - 0s 12ms/step - loss: 12.1731 - mae: 2.4865 - val_loss: 8.3898 - val_mae: 2.2598\n",
      "Epoch 51/100\n",
      "11/11 [==============================] - 0s 14ms/step - loss: 11.9769 - mae: 2.4600 - val_loss: 8.2482 - val_mae: 2.2350\n",
      "Epoch 52/100\n",
      "11/11 [==============================] - 0s 14ms/step - loss: 11.9918 - mae: 2.4302 - val_loss: 7.9887 - val_mae: 2.1883\n",
      "Epoch 53/100\n",
      "11/11 [==============================] - 0s 13ms/step - loss: 11.8797 - mae: 2.4231 - val_loss: 8.0849 - val_mae: 2.2220\n",
      "Epoch 54/100\n",
      "11/11 [==============================] - 0s 14ms/step - loss: 11.7576 - mae: 2.4517 - val_loss: 8.2567 - val_mae: 2.2814\n",
      "Epoch 55/100\n",
      "11/11 [==============================] - 0s 13ms/step - loss: 11.7569 - mae: 2.4364 - val_loss: 7.8973 - val_mae: 2.1786\n",
      "Epoch 56/100\n",
      "11/11 [==============================] - 0s 13ms/step - loss: 11.6460 - mae: 2.3937 - val_loss: 8.2063 - val_mae: 2.2245\n",
      "Epoch 57/100\n",
      "11/11 [==============================] - 0s 13ms/step - loss: 12.0122 - mae: 2.4161 - val_loss: 8.2183 - val_mae: 2.2278\n",
      "Epoch 58/100\n",
      "11/11 [==============================] - 0s 13ms/step - loss: 11.5467 - mae: 2.4243 - val_loss: 9.2401 - val_mae: 2.4049\n",
      "Epoch 59/100\n",
      "11/11 [==============================] - 0s 13ms/step - loss: 11.6973 - mae: 2.4899 - val_loss: 8.8335 - val_mae: 2.3397\n",
      "Epoch 60/100\n",
      "11/11 [==============================] - 0s 14ms/step - loss: 11.3211 - mae: 2.4145 - val_loss: 8.2016 - val_mae: 2.2311\n",
      "Epoch 61/100\n",
      "11/11 [==============================] - 0s 14ms/step - loss: 11.2712 - mae: 2.3890 - val_loss: 8.2108 - val_mae: 2.2396\n"
     ]
    },
    {
     "name": "stdout",
     "output_type": "stream",
     "text": [
      "Epoch 62/100\n",
      "11/11 [==============================] - 0s 13ms/step - loss: 11.0286 - mae: 2.3393 - val_loss: 7.6951 - val_mae: 2.1662\n",
      "Epoch 63/100\n",
      "11/11 [==============================] - 0s 13ms/step - loss: 10.9641 - mae: 2.3443 - val_loss: 7.7402 - val_mae: 2.1843\n",
      "Epoch 64/100\n",
      "11/11 [==============================] - 0s 13ms/step - loss: 10.8268 - mae: 2.3403 - val_loss: 8.0372 - val_mae: 2.2308\n",
      "Epoch 65/100\n",
      "11/11 [==============================] - 0s 13ms/step - loss: 11.0804 - mae: 2.4153 - val_loss: 8.5001 - val_mae: 2.2939\n",
      "Epoch 66/100\n",
      "11/11 [==============================] - 0s 14ms/step - loss: 11.0076 - mae: 2.4032 - val_loss: 7.8454 - val_mae: 2.1904\n",
      "Epoch 67/100\n",
      "11/11 [==============================] - 0s 15ms/step - loss: 10.7939 - mae: 2.3794 - val_loss: 8.2282 - val_mae: 2.2603\n",
      "Epoch 68/100\n",
      "11/11 [==============================] - 0s 14ms/step - loss: 10.6481 - mae: 2.3646 - val_loss: 7.6011 - val_mae: 2.1676\n",
      "Epoch 69/100\n",
      "11/11 [==============================] - 0s 15ms/step - loss: 10.4745 - mae: 2.3165 - val_loss: 7.6191 - val_mae: 2.1789\n",
      "Epoch 70/100\n",
      "11/11 [==============================] - 0s 13ms/step - loss: 10.2983 - mae: 2.3093 - val_loss: 7.8322 - val_mae: 2.2143\n",
      "Epoch 71/100\n",
      "11/11 [==============================] - 0s 14ms/step - loss: 10.2704 - mae: 2.3106 - val_loss: 8.0630 - val_mae: 2.2503\n",
      "Epoch 72/100\n",
      "11/11 [==============================] - 0s 14ms/step - loss: 10.1060 - mae: 2.2977 - val_loss: 7.8086 - val_mae: 2.1719\n",
      "Epoch 73/100\n",
      "11/11 [==============================] - 0s 13ms/step - loss: 10.1566 - mae: 2.2960 - val_loss: 7.3656 - val_mae: 2.1489\n",
      "Epoch 74/100\n",
      "11/11 [==============================] - 0s 14ms/step - loss: 10.0300 - mae: 2.2655 - val_loss: 7.9125 - val_mae: 2.2255\n",
      "Epoch 75/100\n",
      "11/11 [==============================] - 0s 14ms/step - loss: 9.9102 - mae: 2.2610 - val_loss: 7.6994 - val_mae: 2.1600\n",
      "Epoch 76/100\n",
      "11/11 [==============================] - 0s 13ms/step - loss: 10.0779 - mae: 2.3026 - val_loss: 7.9339 - val_mae: 2.1925\n",
      "Epoch 77/100\n",
      "11/11 [==============================] - 0s 14ms/step - loss: 9.7967 - mae: 2.2778 - val_loss: 7.6537 - val_mae: 2.1857\n",
      "Epoch 78/100\n",
      "11/11 [==============================] - 0s 14ms/step - loss: 10.1135 - mae: 2.2505 - val_loss: 7.5524 - val_mae: 2.2185\n",
      "Epoch 79/100\n",
      "11/11 [==============================] - 0s 14ms/step - loss: 9.9510 - mae: 2.2313 - val_loss: 7.5464 - val_mae: 2.1425\n",
      "Epoch 80/100\n",
      "11/11 [==============================] - 0s 13ms/step - loss: 9.9388 - mae: 2.2713 - val_loss: 7.9434 - val_mae: 2.1986\n",
      "Epoch 81/100\n",
      "11/11 [==============================] - 0s 13ms/step - loss: 9.8557 - mae: 2.2443 - val_loss: 7.4451 - val_mae: 2.1164\n",
      "Epoch 82/100\n",
      "11/11 [==============================] - 0s 14ms/step - loss: 9.5422 - mae: 2.2066 - val_loss: 7.8848 - val_mae: 2.2169\n",
      "Epoch 83/100\n",
      "11/11 [==============================] - 0s 14ms/step - loss: 9.5304 - mae: 2.1802 - val_loss: 7.5510 - val_mae: 2.1594\n",
      "Epoch 84/100\n",
      "11/11 [==============================] - 0s 15ms/step - loss: 9.3667 - mae: 2.1853 - val_loss: 7.7481 - val_mae: 2.1716\n",
      "Epoch 85/100\n",
      "11/11 [==============================] - 0s 13ms/step - loss: 9.3767 - mae: 2.1945 - val_loss: 7.5393 - val_mae: 2.1319\n",
      "Epoch 86/100\n",
      "11/11 [==============================] - 0s 14ms/step - loss: 9.3248 - mae: 2.1846 - val_loss: 7.2203 - val_mae: 2.0691\n",
      "Epoch 87/100\n",
      "11/11 [==============================] - 0s 13ms/step - loss: 9.1892 - mae: 2.1828 - val_loss: 7.4845 - val_mae: 2.1259\n",
      "Epoch 88/100\n",
      "11/11 [==============================] - 0s 13ms/step - loss: 9.3023 - mae: 2.1693 - val_loss: 7.2331 - val_mae: 2.1343\n",
      "Epoch 89/100\n",
      "11/11 [==============================] - 0s 14ms/step - loss: 9.3166 - mae: 2.1559 - val_loss: 7.3284 - val_mae: 2.1119\n",
      "Epoch 90/100\n",
      "11/11 [==============================] - 0s 15ms/step - loss: 9.0591 - mae: 2.1629 - val_loss: 7.7318 - val_mae: 2.1562\n",
      "Epoch 91/100\n",
      "11/11 [==============================] - 0s 15ms/step - loss: 9.3504 - mae: 2.2273 - val_loss: 7.4586 - val_mae: 2.0872\n",
      "Epoch 92/100\n",
      "11/11 [==============================] - 0s 14ms/step - loss: 8.9716 - mae: 2.1437 - val_loss: 7.3986 - val_mae: 2.1672\n",
      "Epoch 93/100\n",
      "11/11 [==============================] - 0s 13ms/step - loss: 8.8691 - mae: 2.1294 - val_loss: 7.6729 - val_mae: 2.1537\n",
      "Epoch 94/100\n",
      "11/11 [==============================] - 0s 12ms/step - loss: 8.8808 - mae: 2.1759 - val_loss: 7.7939 - val_mae: 2.1806\n",
      "Epoch 95/100\n",
      "11/11 [==============================] - 0s 15ms/step - loss: 8.7032 - mae: 2.1389 - val_loss: 7.3172 - val_mae: 2.0877\n",
      "Epoch 96/100\n",
      "11/11 [==============================] - 0s 14ms/step - loss: 8.6819 - mae: 2.1238 - val_loss: 7.5856 - val_mae: 2.1597\n",
      "Epoch 97/100\n",
      "11/11 [==============================] - 0s 14ms/step - loss: 8.9169 - mae: 2.1631 - val_loss: 7.3619 - val_mae: 2.1075\n",
      "Epoch 98/100\n",
      "11/11 [==============================] - 0s 14ms/step - loss: 8.7520 - mae: 2.1352 - val_loss: 7.2866 - val_mae: 2.0575\n",
      "Epoch 99/100\n",
      "11/11 [==============================] - 0s 14ms/step - loss: 8.5766 - mae: 2.1063 - val_loss: 7.8199 - val_mae: 2.2107\n",
      "Epoch 100/100\n",
      "11/11 [==============================] - 0s 13ms/step - loss: 8.6856 - mae: 2.1659 - val_loss: 7.9102 - val_mae: 2.1575\n"
     ]
    }
   ],
   "source": [
    "history=model.fit(X_train,Y_train,validation_split=0.2,epochs=100)"
   ]
  },
  {
   "cell_type": "code",
   "execution_count": 21,
   "id": "93e65f41",
   "metadata": {},
   "outputs": [
    {
     "data": {
      "image/png": "[encoded data removed]",
      "text/plain": [
       "<Figure size 432x288 with 1 Axes>"
      ]
     },
     "metadata": {
      "needs_background": "light"
     },
     "output_type": "display_data"
    }
   ],
   "source": [
    "loss=history.history['loss']\n",
    "val_loss=history.history['val_loss']\n",
    "epochs = range(1, len(loss) + 1)\n",
    "plt.plot(epochs, loss, 'y', label='Training loss')\n",
    "plt.plot(epochs, val_loss, 'r', label='Validation loss')\n",
    "plt.title('Training and validation loss')\n",
    "plt.xlabel('Epochs')\n",
    "plt.ylabel('Loss')\n",
    "plt.legend()\n",
    "plt.show()"
   ]
  },
  {
   "cell_type": "code",
   "execution_count": 24,
   "id": "b43d24a1",
   "metadata": {},
   "outputs": [
    {
     "data": {
      "image/png": "[encoded data removed]",
      "text/plain": [
       "<Figure size 432x288 with 1 Axes>"
      ]
     },
     "metadata": {
      "needs_background": "light"
     },
     "output_type": "display_data"
    }
   ],
   "source": [
    "acc = history.history['mae']\n",
    "val_acc = history.history['val_mae']\n",
    "plt.plot(epochs, acc, 'y', label='Training MAE')\n",
    "plt.plot(epochs, val_acc, 'r', label='Validation MAE')\n",
    "plt.title('Training and validation MAE')\n",
    "plt.xlabel('Epochs')\n",
    "plt.ylabel('Accuracy')\n",
    "plt.legend()\n",
    "plt.show()"
   ]
  },
  {
   "cell_type": "code",
   "execution_count": 26,
   "id": "77c29b3c",
   "metadata": {},
   "outputs": [
    {
     "name": "stdout",
     "output_type": "stream",
     "text": [
      "1/1 [==============================] - 0s 56ms/step\n",
      "Predicted values are:  [[33.711407]\n",
      " [23.087101]\n",
      " [43.645943]\n",
      " [48.58144 ]\n",
      " [12.21005 ]]\n",
      "Real values are:  231    31.7\n",
      "357    21.7\n",
      "97     38.7\n",
      "225    50.0\n",
      "468    19.1\n",
      "Name: MEDV, dtype: float64\n"
     ]
    }
   ],
   "source": [
    "predictions = model.predict(X_test[:5])\n",
    "print(\"Predicted values are: \", predictions)\n",
    "print(\"Real values are: \", Y_test[:5])"
   ]
  },
  {
   "cell_type": "code",
   "execution_count": 29,
   "id": "8b3bb88f",
   "metadata": {},
   "outputs": [
    {
     "name": "stdout",
     "output_type": "stream",
     "text": [
      "4/4 [==============================] - 0s 6ms/step - loss: 9.4858 - mae: 2.2266\n",
      "Mean squared error from neural net:  9.485821723937988\n",
      "Mean absolute error from neural net:  2.2265923023223877\n"
     ]
    }
   ],
   "source": [
    "mse_neural, mae_neural = model.evaluate(X_test, Y_test)\n",
    "print('Mean squared error from neural net: ', mse_neural)\n",
    "print('Mean absolute error from neural net: ', mae_neural)"
   ]
  },
  {
   "cell_type": "code",
   "execution_count": 30,
   "id": "90d6d64f",
   "metadata": {},
   "outputs": [],
   "source": [
    "from sklearn import linear_model\n",
    "from sklearn.tree import DecisionTreeRegressor\n",
    "from sklearn.metrics import mean_squared_error, mean_absolute_error"
   ]
  },
  {
   "cell_type": "code",
   "execution_count": 31,
   "id": "964ec631",
   "metadata": {},
   "outputs": [
    {
     "name": "stdout",
     "output_type": "stream",
     "text": [
      "Mean squared error from linear regression:  23.72912565178979\n",
      "Mean absolute error from linear regression:  3.3883542889113625\n"
     ]
    }
   ],
   "source": [
    "lr_model = linear_model.LinearRegression()\n",
    "lr_model.fit(X_train, Y_train)\n",
    "y_pred_lr = lr_model.predict(X_test)\n",
    "mse_lr = mean_squared_error(Y_test, y_pred_lr)\n",
    "mae_lr = mean_absolute_error(Y_test, y_pred_lr)\n",
    "print('Mean squared error from linear regression: ', mse_lr)\n",
    "print('Mean absolute error from linear regression: ', mae_lr)"
   ]
  },
  {
   "cell_type": "code",
   "execution_count": 32,
   "id": "eb965852",
   "metadata": {},
   "outputs": [
    {
     "name": "stdout",
     "output_type": "stream",
     "text": [
      "Mean squared error using decision tree:  23.780882352941177\n",
      "Mean absolute error using decision tree:  3.3186274509803915\n"
     ]
    }
   ],
   "source": [
    "tree = DecisionTreeRegressor()\n",
    "tree.fit(X_train, Y_train)\n",
    "y_pred_tree = tree.predict(X_test)\n",
    "mse_dt = mean_squared_error(Y_test, y_pred_tree)\n",
    "mae_dt = mean_absolute_error(Y_test, y_pred_tree)\n",
    "print('Mean squared error using decision tree: ', mse_dt)\n",
    "print('Mean absolute error using decision tree: ', mae_dt)"
   ]
  },
  {
   "cell_type": "code",
   "execution_count": 33,
   "id": "556038bc",
   "metadata": {},
   "outputs": [
    {
     "name": "stdout",
     "output_type": "stream",
     "text": [
      "Mean squared error using Random Forest:  11.828811764705884\n",
      "Mean absolute error Using Random Forest:  2.411372549019608\n"
     ]
    }
   ],
   "source": [
    "from sklearn.ensemble import RandomForestRegressor\n",
    "model = RandomForestRegressor(n_estimators = 30, random_state=30)\n",
    "model.fit(X_train, Y_train)\n",
    "\n",
    "y_pred_RF = model.predict(X_test)\n",
    "\n",
    "mse_RF = mean_squared_error(Y_test, y_pred_RF)\n",
    "mae_RF = mean_absolute_error(Y_test, y_pred_RF)\n",
    "print('Mean squared error using Random Forest: ', mse_RF)\n",
    "print('Mean absolute error Using Random Forest: ', mae_RF)"
   ]
  },
  {
   "cell_type": "code",
   "execution_count": null,
   "id": "7f5c07f8",
   "metadata": {},
   "outputs": [],
   "source": []
  }
 ],
 "metadata": {
  "kernelspec": {
   "display_name": "Python 3 (ipykernel)",
   "language": "python",
   "name": "python3"
  },
  "language_info": {
   "codemirror_mode": {
    "name": "ipython",
    "version": 3
   },
   "file_extension": ".py",
   "mimetype": "text/x-python",
   "name": "python",
   "nbconvert_exporter": "python",
   "pygments_lexer": "ipython3",
   "version": "3.9.9"
  }
 },
 "nbformat": 4,
 "nbformat_minor": 5
}
